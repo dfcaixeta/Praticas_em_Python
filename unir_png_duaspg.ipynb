{
 "cells": [
  {
   "cell_type": "code",
   "execution_count": 7,
   "metadata": {},
   "outputs": [
    {
     "name": "stdout",
     "output_type": "stream",
     "text": [
      "<PIL.Image.Image image mode=RGB size=2339x3308 at 0x1C0D51CA350>\n"
     ]
    }
   ],
   "source": [
    "''' Programa em Python que une (join) duas páginas PNG. Versão 2. Saída no formato Retrato.\n",
    "Precisa instalar a biblioteca (library) PIL. E.g.: pip install pillow \n",
    "\n",
    "O PIL, sigla para Python Imaging Library, é uma biblioteca de processamento de imagens bastante utilizada em Python.\n",
    "Oferece funcionalidades e recursos para manipulação, edição e processamento de imagens.\n",
    "Permite que os desenvolvedores Python trabalhem com imagens de forma eficiente e flexível.\n",
    "Formatos: JPEG, PNG, GIF, BMP, etc.\n",
    "\n",
    "Autor: Daniel Caixeta - @dfcaixeta - 31.mar.2024. '''\n",
    "\n",
    "from PIL import Image\n",
    "\n",
    "# Abra os dois arquivos PNG que você deseja unir\n",
    "imagem1 = Image.open('E:/Repo_Codes/Praticas_em_Python/Imagens_processadas/imagem1.png')\n",
    "imagem2 = Image.open('E:/Repo_Codes/Praticas_em_Python/Imagens_processadas/imagem2.png')\n",
    "\n",
    "# Crie uma nova imagem em branco que será usada para combinar as duas imagens\n",
    "nova_imagem = Image.new(\"RGB\", (imagem1.width, imagem1.height * 2))\n",
    "print(nova_imagem)\n",
    "\n",
    "# Cole as duas imagens na nova imagem, uma em cima da outra\n",
    "nova_imagem.paste(imagem1, (0, 0))\n",
    "nova_imagem.paste(imagem2, (0, imagem1.height))\n",
    "\n",
    "# Imprime a imagem combinada\n",
    "nova_imagem.show()\n",
    "\n",
    "# Salve a nova imagem com as duas páginas unidas\n",
    "nova_imagem.save('E:/Repo_Codes/Praticas_em_Python/Imagens_processadas/imagem_combinada.png')\n",
    "\n",
    "# Feche as imagens originais\n",
    "imagem1.close()\n",
    "imagem2.close()\n"
   ]
  }
 ],
 "metadata": {
  "kernelspec": {
   "display_name": "Python 3",
   "language": "python",
   "name": "python3"
  },
  "language_info": {
   "codemirror_mode": {
    "name": "ipython",
    "version": 3
   },
   "file_extension": ".py",
   "mimetype": "text/x-python",
   "name": "python",
   "nbconvert_exporter": "python",
   "pygments_lexer": "ipython3",
   "version": "3.11.5"
  }
 },
 "nbformat": 4,
 "nbformat_minor": 2
}
