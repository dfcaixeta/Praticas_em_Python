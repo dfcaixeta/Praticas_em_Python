{
 "cells": [
  {
   "cell_type": "code",
   "execution_count": 1,
   "metadata": {},
   "outputs": [],
   "source": [
    "from PIL import Image\n",
    "\n",
    "# Abra os dois arquivos PNG que você deseja unir\n",
    "imagem1 = Image.open(\"imagem1.png\")\n",
    "imagem2 = Image.open(\"imagem2.png\")\n",
    "\n",
    "# Crie uma nova imagem em branco que será usada para combinar as duas imagens\n",
    "nova_imagem = Image.new(\"RGB\", (imagem1.width, imagem1.height * 2))\n",
    "\n",
    "# Cole as duas imagens na nova imagem, uma em cima da outra\n",
    "nova_imagem.paste(imagem1, (0, 0))\n",
    "nova_imagem.paste(imagem2, (0, imagem1.height))\n",
    "\n",
    "# Salve a nova imagem com as duas páginas unidas\n",
    "nova_imagem.save(\"imagem_combinada.png\")\n",
    "\n",
    "# Feche as imagens originais\n",
    "imagem1.close()\n",
    "imagem2.close()\n"
   ]
  }
 ],
 "metadata": {
  "kernelspec": {
   "display_name": "Python 3",
   "language": "python",
   "name": "python3"
  },
  "language_info": {
   "codemirror_mode": {
    "name": "ipython",
    "version": 3
   },
   "file_extension": ".py",
   "mimetype": "text/x-python",
   "name": "python",
   "nbconvert_exporter": "python",
   "pygments_lexer": "ipython3",
   "version": "3.12.1"
  }
 },
 "nbformat": 4,
 "nbformat_minor": 2
}
