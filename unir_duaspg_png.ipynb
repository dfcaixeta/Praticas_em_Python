{
 "cells": [
  {
   "cell_type": "code",
   "execution_count": 1,
   "metadata": {},
   "outputs": [],
   "source": [
    "from PIL import Image\n",
    "\n",
    "# Abra os dois arquivos PNG que você deseja unir\n",
    "imagem1 = Image.open('imagem1.png')\n",
    "imagem2 = Image.open('imagem2.png')\n",
    "\n",
    "# Certifique-se de que as duas imagens tenham o mesmo tamanho\n",
    "if imagem1.size != imagem2.size:\n",
    "    raise ValueError(\"As imagens não têm o mesmo tamanho\")\n",
    "\n",
    "# Obtenha as dimensões das imagens\n",
    "largura, altura = imagem1.size\n",
    "\n",
    "# Crie uma nova imagem que seja duas vezes mais alta do que a imagem original\n",
    "imagem_final = Image.new('RGB', (largura, altura * 2))\n",
    "\n",
    "# Cole as duas imagens na nova imagem em páginas diferentes\n",
    "imagem_final.paste(imagem1, (0, 0))\n",
    "imagem_final.paste(imagem2, (0, altura))\n",
    "\n",
    "# Salve a imagem final\n",
    "imagem_final.save('imagem_final.png')\n",
    "\n",
    "# Feche as imagens originais\n",
    "imagem1.close()\n",
    "imagem2.close()\n"
   ]
  }
 ],
 "metadata": {
  "kernelspec": {
   "display_name": "Python 3",
   "language": "python",
   "name": "python3"
  },
  "language_info": {
   "codemirror_mode": {
    "name": "ipython",
    "version": 3
   },
   "file_extension": ".py",
   "mimetype": "text/x-python",
   "name": "python",
   "nbconvert_exporter": "python",
   "pygments_lexer": "ipython3",
   "version": "3.12.1"
  }
 },
 "nbformat": 4,
 "nbformat_minor": 2
}
