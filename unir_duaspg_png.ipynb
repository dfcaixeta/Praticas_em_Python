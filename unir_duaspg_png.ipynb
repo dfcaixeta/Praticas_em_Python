{
 "cells": [
  {
   "cell_type": "code",
   "execution_count": 1,
   "metadata": {},
   "outputs": [
    {
     "name": "stdout",
     "output_type": "stream",
     "text": [
      "Informações das Imagens [...]\n",
      "Imagem 1: Formato: PNG - Dimensões: (2339, 1654) - Modo: RGB\n",
      "Imagem 2: Formato: PNG - Dimensões: (2339, 1654) - Modo: RGB\n",
      "----------\n",
      "Imagens com as mesmas dimensões!\n",
      "----------\n",
      "Imagem final processada com sucesso!\n",
      "----------\n",
      "Imagem final salva com sucesso!\n",
      "----------\n"
     ]
    }
   ],
   "source": [
    "''' Programa em Python que une (join) duas páginas PNG.\n",
    "Na saída dessa execução sai uma página PNG no formato retrato.\n",
    "Precisa instalar a biblioteca (library) PIL. E.g.: pip install pillow\n",
    "\n",
    "O PIL, sigla para Python Imaging Library, é uma biblioteca de processamento de imagens bastante utilizada em Python.\n",
    "Oferece funcionalidades e recursos para manipulação, edição e processamento de imagens.\n",
    "Permite que os desenvolvedores Python trabalhem com imagens de forma eficiente e flexível.\n",
    "Formatos: JPEG, PNG, GIF, BMP, etc.\n",
    "\n",
    "Autor: Daniel Caixeta - @dfcaixeta - 31.mar.2024. '''\n",
    "\n",
    "# Importando a biblioteca Pillow.  \n",
    "from PIL import Image\n",
    "\n",
    "# Carrega/Abre os dois arquivos PNG na pasta que serão unidos.\n",
    "imagem1 = Image.open('E:/Repo_Codes/Praticas_em_Python/Imagens_processadas/imagem1.png')\n",
    "imagem2 = Image.open('E:/Repo_Codes/Praticas_em_Python/Imagens_processadas/imagem2.png')\n",
    "\n",
    "# Exige as informações das imagens que serão processadas\n",
    "print('Informações das Imagens [...]')\n",
    "print('Imagem 1: Formato:', imagem1.format, '- Dimensões:', imagem1.size, '- Modo:', imagem1.mode)\n",
    "print('Imagem 2: Formato:', imagem2.format, '- Dimensões:', imagem2.size, '- Modo:', imagem2.mode)\n",
    "\n",
    "print('-' * 10)\n",
    "\n",
    "# Certifique-se de que as duas imagens tenham o mesmo tamanho usnando operação de comparação.\n",
    "if imagem1.size != imagem2.size:\n",
    "    raise ValueError(\"As imagens não têm as mesmas dimensões!\")\n",
    "else:\n",
    "    print('Imagens com as mesmas dimensões!')\n",
    "\n",
    "print('-' * 10)\n",
    "\n",
    "# Recebe as dimensões das imagens\n",
    "largura, altura = imagem1.size\n",
    "\n",
    "# Crie uma nova imagem que seja duas vezes mais alta do que a imagem original\n",
    "imagem_final = Image.new('RGB', (largura, altura * 2))\n",
    "\n",
    "# Une as duas imagens na nova imagem em páginas diferentes.\n",
    "imagem_final.paste(imagem1, (0, 0))\n",
    "imagem_final.paste(imagem2, (0, altura))\n",
    "\n",
    "# Mostra a imagem em uma janema separada.\n",
    "imagem_final.show()\n",
    "print('Imagem final processada com sucesso!')\n",
    "\n",
    "print('-' * 10)\n",
    "\n",
    "# Salvando a imagem final na pasta de interesse.\n",
    "imagem_final.save('E:/Repo_Codes/Praticas_em_Python/Imagens_processadas/imagem_final.png')\n",
    "print('Imagem final salva com sucesso!')\n",
    "\n",
    "print('-' * 10)\n",
    "\n",
    "# # Feche as imagens originais\n",
    "imagem1.close()\n",
    "imagem2.close()\n",
    "\n",
    "# EOC\n"
   ]
  }
 ],
 "metadata": {
  "kernelspec": {
   "display_name": "Python 3",
   "language": "python",
   "name": "python3"
  },
  "language_info": {
   "codemirror_mode": {
    "name": "ipython",
    "version": 3
   },
   "file_extension": ".py",
   "mimetype": "text/x-python",
   "name": "python",
   "nbconvert_exporter": "python",
   "pygments_lexer": "ipython3",
   "version": "3.12.3"
  }
 },
 "nbformat": 4,
 "nbformat_minor": 2
}
