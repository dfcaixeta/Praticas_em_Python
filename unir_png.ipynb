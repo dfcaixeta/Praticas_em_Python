{
 "cells": [
  {
   "cell_type": "code",
   "execution_count": 2,
   "metadata": {},
   "outputs": [
    {
     "name": "stdout",
     "output_type": "stream",
     "text": [
      "Imagens unidas com sucesso!\n"
     ]
    }
   ],
   "source": [
    "from PIL import Image\n",
    "\n",
    "# Abra as imagens que você deseja unir\n",
    "imagem1 = Image.open('imagem1.png')\n",
    "imagem2 = Image.open('imagem2.png')\n",
    "\n",
    "# Verifique se as dimensões das imagens são compatíveis\n",
    "if imagem1.size[1] == imagem2.size[1]:\n",
    "    # Calcule a largura da nova imagem\n",
    "    largura_nova_imagem = imagem1.size[0] + imagem2.size[0]\n",
    "\n",
    "    # Crie uma nova imagem em branco com as dimensões adequadas\n",
    "    nova_imagem = Image.new('RGB', (largura_nova_imagem, imagem1.size[1]))\n",
    "\n",
    "    # Cole as imagens originais na nova imagem\n",
    "    nova_imagem.paste(imagem1, (0, 0))\n",
    "    nova_imagem.paste(imagem2, (imagem1.size[0], 0))\n",
    "\n",
    "    # Salve a nova imagem\n",
    "    nova_imagem.save('imagem_unida.png')\n",
    "\n",
    "    print(\"Imagens unidas com sucesso!\")\n",
    "else:\n",
    "    print(\"As dimensões das imagens não são compatíveis.\")\n",
    "\n"
   ]
  }
 ],
 "metadata": {
  "kernelspec": {
   "display_name": "Python 3",
   "language": "python",
   "name": "python3"
  },
  "language_info": {
   "codemirror_mode": {
    "name": "ipython",
    "version": 3
   },
   "file_extension": ".py",
   "mimetype": "text/x-python",
   "name": "python",
   "nbconvert_exporter": "python",
   "pygments_lexer": "ipython3",
   "version": "3.12.1"
  }
 },
 "nbformat": 4,
 "nbformat_minor": 2
}
