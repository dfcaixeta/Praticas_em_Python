{
 "cells": [
  {
   "cell_type": "code",
   "execution_count": 5,
   "metadata": {},
   "outputs": [
    {
     "name": "stdout",
     "output_type": "stream",
     "text": [
      "Imagens unidas com sucesso!\n"
     ]
    }
   ],
   "source": [
    "''' Programa em Python que une (join) duas páginas PNG. Saída no formato Paisagem.\n",
    "Na saída dessa execução sai uma página PNG no formato retrato.\n",
    "Precisa instalar a biblioteca (library) PIL. E.g.: pip install pillow\n",
    "\n",
    "O PIL, sigla para Python Imaging Library, é uma biblioteca de processamento de imagens bastante utilizada em Python.\n",
    "Oferece funcionalidades e recursos para manipulação, edição e processamento de imagens.\n",
    "Permite que os desenvolvedores Python trabalhem com imagens de forma eficiente e flexível.\n",
    "Formatos: JPEG, PNG, GIF, BMP, etc.\n",
    "\n",
    "Autor: Daniel Caixeta - @dfcaixeta - 31.mar.2024. '''\n",
    "\n",
    "# Importando a biblioteca Pillow.  \n",
    "from PIL import Image\n",
    "\n",
    "# Abra as imagens que você deseja unir\n",
    "imagem1 = Image.open('E:/Repo_Codes/Praticas_em_Python/Imagens_processadas/imagem1.png')\n",
    "imagem2 = Image.open('E:/Repo_Codes/Praticas_em_Python/Imagens_processadas/imagem2.png')\n",
    "\n",
    "# Verifique se as dimensões das imagens são compatíveis\n",
    "if imagem1.size[1] == imagem2.size[1]:\n",
    "    # Calcule a largura da nova imagem\n",
    "    largura_nova_imagem = imagem1.size[0] + imagem2.size[0]\n",
    "\n",
    "    # Crie uma nova imagem em branco com as dimensões adequadas\n",
    "    nova_imagem = Image.new('RGB', (largura_nova_imagem, imagem1.size[1]))\n",
    "\n",
    "    # Cole as imagens originais na nova imagem\n",
    "    nova_imagem.paste(imagem1, (0, 0))\n",
    "    nova_imagem.paste(imagem2, (imagem1.size[0], 0))\n",
    "\n",
    "    # Imprime a imagem processada.\n",
    "    nova_imagem.show()\n",
    "\n",
    "    # Salve a nova imagem\n",
    "    nova_imagem.save('E:/Repo_Codes/Praticas_em_Python/Imagens_processadas/imagem_unida.png')\n",
    "\n",
    "    print(\"Imagens unidas com sucesso!\")\n",
    "else:\n",
    "    print(\"As dimensões das imagens não são compatíveis.\")\n",
    "\n"
   ]
  }
 ],
 "metadata": {
  "kernelspec": {
   "display_name": "Python 3",
   "language": "python",
   "name": "python3"
  },
  "language_info": {
   "codemirror_mode": {
    "name": "ipython",
    "version": 3
   },
   "file_extension": ".py",
   "mimetype": "text/x-python",
   "name": "python",
   "nbconvert_exporter": "python",
   "pygments_lexer": "ipython3",
   "version": "3.11.5"
  }
 },
 "nbformat": 4,
 "nbformat_minor": 2
}
